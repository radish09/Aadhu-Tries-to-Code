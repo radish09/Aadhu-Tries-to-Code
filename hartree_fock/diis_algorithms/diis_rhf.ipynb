{
 "cells": [
  {
   "cell_type": "markdown",
   "id": "d408273e",
   "metadata": {},
   "source": [
    "### Direct inversion of iterative subspace"
   ]
  },
  {
   "cell_type": "markdown",
   "id": "06d50db2",
   "metadata": {},
   "source": [
    "We go through the theory presented here: https://doi.org/10.1080/00268970701691611"
   ]
  },
  {
   "cell_type": "markdown",
   "id": "f024bf6e",
   "metadata": {},
   "source": [
    "We want a solution to $\\textbf{F}(\\textbf{x}_*) = 0$. About some reference point $\\textbf{x}_0$,\n",
    "\n",
    "$$\\textbf{F}(\\textbf{x}) = \\textbf{F}(\\textbf{x}_0) + \\nabla \\textbf{F}(\\textbf{x}_0)(\\textbf{x}-\\textbf{x}_0)+O(||\\textbf{x}-\\textbf{x}_0||^2)$$\n",
    "\n",
    "To first order,\n",
    "\n",
    "$$\\textbf{F}^{[1]}(\\textbf{x}) = \\textbf{F}(\\textbf{x}_0) + \\nabla \\textbf{F}(\\textbf{x}_0)(\\textbf{x}-\\textbf{x}_0)$$\n",
    "\n",
    "In Newton or quasi-Newton scheme, one determines $\\textbf{x}$ by solving $\\textbf{F}^{[1]}(\\textbf{x}) = 0$, but this is \n"
   ]
  }
 ],
 "metadata": {
  "language_info": {
   "name": "python"
  }
 },
 "nbformat": 4,
 "nbformat_minor": 5
}
