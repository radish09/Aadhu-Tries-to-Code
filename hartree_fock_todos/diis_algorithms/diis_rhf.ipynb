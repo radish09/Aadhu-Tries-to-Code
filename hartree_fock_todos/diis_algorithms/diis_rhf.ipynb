{
 "cells": [
  {
   "cell_type": "markdown",
   "id": "d408273e",
   "metadata": {},
   "source": [
    "### Direct inversion of iterative subspace (incomplete)"
   ]
  },
  {
   "cell_type": "markdown",
   "id": "06d50db2",
   "metadata": {},
   "source": [
    "We go through the theory presented here: https://doi.org/10.1080/00268970701691611"
   ]
  }
 ],
 "metadata": {
  "language_info": {
   "name": "python"
  }
 },
 "nbformat": 4,
 "nbformat_minor": 5
}
